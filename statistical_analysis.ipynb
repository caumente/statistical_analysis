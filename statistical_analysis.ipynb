{
 "cells": [
  {
   "cell_type": "code",
   "execution_count": 40,
   "metadata": {},
   "outputs": [],
   "source": [
    "import pandas as pd\n",
    "import numpy as np\n",
    "import matplotlib.pyplot as plt\n",
    "import seaborn as sns\n",
    "from scipy.stats import shapiro, levene\n",
    "from scipy.stats import fligner\n",
    "from scipy.stats import kruskal\n",
    "from scipy.stats import friedmanchisquare\n",
    "from scikit_posthocs import posthoc_nemenyi, posthoc_nemenyi_friedman, posthoc_conover, __convert_to_block_df"
   ]
  },
  {
   "cell_type": "markdown",
   "metadata": {},
   "source": [
    "# 1. Dataset"
   ]
  },
  {
   "cell_type": "code",
   "execution_count": 5,
   "metadata": {},
   "outputs": [],
   "source": [
    "P1 = [25,23,24,32,32,34,21,24,27,20] \n",
    "P2 = [32,31,32,34,29,22,34,35,31,31] \n",
    "P3 = [35,46,54,32,41,42,39,36,32,37] \n",
    "P4 = [42,21,23,51,31,30,34,25,35,29] \n",
    "P5 = [35,36,25,20,23,26,29,29,21,21] \n",
    "P6 = [42,32,45,50,51,48,43,44,47,49] \n",
    "P7 = [21,43,45,43,41,43,54,53,51,54]"
   ]
  },
  {
   "cell_type": "code",
   "execution_count": 6,
   "metadata": {},
   "outputs": [
    {
     "data": {
      "text/html": [
       "<div>\n",
       "<style scoped>\n",
       "    .dataframe tbody tr th:only-of-type {\n",
       "        vertical-align: middle;\n",
       "    }\n",
       "\n",
       "    .dataframe tbody tr th {\n",
       "        vertical-align: top;\n",
       "    }\n",
       "\n",
       "    .dataframe thead th {\n",
       "        text-align: right;\n",
       "    }\n",
       "</style>\n",
       "<table border=\"1\" class=\"dataframe\">\n",
       "  <thead>\n",
       "    <tr style=\"text-align: right;\">\n",
       "      <th></th>\n",
       "      <th>P1</th>\n",
       "      <th>P2</th>\n",
       "      <th>P3</th>\n",
       "      <th>P4</th>\n",
       "      <th>P5</th>\n",
       "      <th>P6</th>\n",
       "      <th>P7</th>\n",
       "    </tr>\n",
       "  </thead>\n",
       "  <tbody>\n",
       "    <tr>\n",
       "      <th>0</th>\n",
       "      <td>25</td>\n",
       "      <td>32</td>\n",
       "      <td>35</td>\n",
       "      <td>42</td>\n",
       "      <td>35</td>\n",
       "      <td>42</td>\n",
       "      <td>21</td>\n",
       "    </tr>\n",
       "    <tr>\n",
       "      <th>1</th>\n",
       "      <td>23</td>\n",
       "      <td>31</td>\n",
       "      <td>46</td>\n",
       "      <td>21</td>\n",
       "      <td>36</td>\n",
       "      <td>32</td>\n",
       "      <td>43</td>\n",
       "    </tr>\n",
       "    <tr>\n",
       "      <th>2</th>\n",
       "      <td>24</td>\n",
       "      <td>32</td>\n",
       "      <td>54</td>\n",
       "      <td>23</td>\n",
       "      <td>25</td>\n",
       "      <td>45</td>\n",
       "      <td>45</td>\n",
       "    </tr>\n",
       "    <tr>\n",
       "      <th>3</th>\n",
       "      <td>32</td>\n",
       "      <td>34</td>\n",
       "      <td>32</td>\n",
       "      <td>51</td>\n",
       "      <td>20</td>\n",
       "      <td>50</td>\n",
       "      <td>43</td>\n",
       "    </tr>\n",
       "    <tr>\n",
       "      <th>4</th>\n",
       "      <td>32</td>\n",
       "      <td>29</td>\n",
       "      <td>41</td>\n",
       "      <td>31</td>\n",
       "      <td>23</td>\n",
       "      <td>51</td>\n",
       "      <td>41</td>\n",
       "    </tr>\n",
       "    <tr>\n",
       "      <th>5</th>\n",
       "      <td>34</td>\n",
       "      <td>22</td>\n",
       "      <td>42</td>\n",
       "      <td>30</td>\n",
       "      <td>26</td>\n",
       "      <td>48</td>\n",
       "      <td>43</td>\n",
       "    </tr>\n",
       "    <tr>\n",
       "      <th>6</th>\n",
       "      <td>21</td>\n",
       "      <td>34</td>\n",
       "      <td>39</td>\n",
       "      <td>34</td>\n",
       "      <td>29</td>\n",
       "      <td>43</td>\n",
       "      <td>54</td>\n",
       "    </tr>\n",
       "    <tr>\n",
       "      <th>7</th>\n",
       "      <td>24</td>\n",
       "      <td>35</td>\n",
       "      <td>36</td>\n",
       "      <td>25</td>\n",
       "      <td>29</td>\n",
       "      <td>44</td>\n",
       "      <td>53</td>\n",
       "    </tr>\n",
       "    <tr>\n",
       "      <th>8</th>\n",
       "      <td>27</td>\n",
       "      <td>31</td>\n",
       "      <td>32</td>\n",
       "      <td>35</td>\n",
       "      <td>21</td>\n",
       "      <td>47</td>\n",
       "      <td>51</td>\n",
       "    </tr>\n",
       "    <tr>\n",
       "      <th>9</th>\n",
       "      <td>20</td>\n",
       "      <td>31</td>\n",
       "      <td>37</td>\n",
       "      <td>29</td>\n",
       "      <td>21</td>\n",
       "      <td>49</td>\n",
       "      <td>54</td>\n",
       "    </tr>\n",
       "  </tbody>\n",
       "</table>\n",
       "</div>"
      ],
      "text/plain": [
       "   P1  P2  P3  P4  P5  P6  P7\n",
       "0  25  32  35  42  35  42  21\n",
       "1  23  31  46  21  36  32  43\n",
       "2  24  32  54  23  25  45  45\n",
       "3  32  34  32  51  20  50  43\n",
       "4  32  29  41  31  23  51  41\n",
       "5  34  22  42  30  26  48  43\n",
       "6  21  34  39  34  29  43  54\n",
       "7  24  35  36  25  29  44  53\n",
       "8  27  31  32  35  21  47  51\n",
       "9  20  31  37  29  21  49  54"
      ]
     },
     "execution_count": 6,
     "metadata": {},
     "output_type": "execute_result"
    }
   ],
   "source": [
    "df = pd.DataFrame(list(zip(P1, P2, P3, P4, P5, P6, P7)), \n",
    "                  columns=[\"P1\", \"P2\", \"P3\", \"P4\", \"P5\", \"P6\", \"P7\"])\n",
    "df"
   ]
  },
  {
   "cell_type": "markdown",
   "metadata": {},
   "source": [
    "# 2. Visual Analysis"
   ]
  },
  {
   "cell_type": "markdown",
   "metadata": {},
   "source": [
    "## Boxplot"
   ]
  },
  {
   "cell_type": "code",
   "execution_count": 63,
   "metadata": {},
   "outputs": [
    {
     "data": {
      "image/png": "[encoded data removed]",
      "text/plain": [
       "<Figure size 864x432 with 1 Axes>"
      ]
     },
     "metadata": {},
     "output_type": "display_data"
    }
   ],
   "source": [
    "sns.set_style(\"white\")\n",
    "fig = plt.figure(figsize=(12, 6))\n",
    "ax = sns.boxplot(x=\"variable\", y=\"value\", data=pd.melt(df), palette=\"Set3\")\n",
    "ax = sns.swarmplot(x=\"variable\", y=\"value\", data=pd.melt(df), color=\".25\")\n",
    "plt.ylabel(\"Solución obtenida\")\n",
    "plt.xlabel(\"Conjunto de parametros\")\n",
    "sns.despine(offset=10, trim=True)\n",
    "plt.show()"
   ]
  },
  {
   "cell_type": "code",
   "execution_count": 67,
   "metadata": {},
   "outputs": [
    {
     "data": {
      "text/html": [
       "<div>\n",
       "<style scoped>\n",
       "    .dataframe tbody tr th:only-of-type {\n",
       "        vertical-align: middle;\n",
       "    }\n",
       "\n",
       "    .dataframe tbody tr th {\n",
       "        vertical-align: top;\n",
       "    }\n",
       "\n",
       "    .dataframe thead th {\n",
       "        text-align: right;\n",
       "    }\n",
       "</style>\n",
       "<table border=\"1\" class=\"dataframe\">\n",
       "  <thead>\n",
       "    <tr style=\"text-align: right;\">\n",
       "      <th></th>\n",
       "      <th>variable</th>\n",
       "      <th>value</th>\n",
       "    </tr>\n",
       "  </thead>\n",
       "  <tbody>\n",
       "    <tr>\n",
       "      <th>0</th>\n",
       "      <td>P1</td>\n",
       "      <td>25</td>\n",
       "    </tr>\n",
       "    <tr>\n",
       "      <th>1</th>\n",
       "      <td>P1</td>\n",
       "      <td>23</td>\n",
       "    </tr>\n",
       "    <tr>\n",
       "      <th>2</th>\n",
       "      <td>P1</td>\n",
       "      <td>24</td>\n",
       "    </tr>\n",
       "    <tr>\n",
       "      <th>3</th>\n",
       "      <td>P1</td>\n",
       "      <td>32</td>\n",
       "    </tr>\n",
       "    <tr>\n",
       "      <th>4</th>\n",
       "      <td>P1</td>\n",
       "      <td>32</td>\n",
       "    </tr>\n",
       "    <tr>\n",
       "      <th>...</th>\n",
       "      <td>...</td>\n",
       "      <td>...</td>\n",
       "    </tr>\n",
       "    <tr>\n",
       "      <th>65</th>\n",
       "      <td>P7</td>\n",
       "      <td>43</td>\n",
       "    </tr>\n",
       "    <tr>\n",
       "      <th>66</th>\n",
       "      <td>P7</td>\n",
       "      <td>54</td>\n",
       "    </tr>\n",
       "    <tr>\n",
       "      <th>67</th>\n",
       "      <td>P7</td>\n",
       "      <td>53</td>\n",
       "    </tr>\n",
       "    <tr>\n",
       "      <th>68</th>\n",
       "      <td>P7</td>\n",
       "      <td>51</td>\n",
       "    </tr>\n",
       "    <tr>\n",
       "      <th>69</th>\n",
       "      <td>P7</td>\n",
       "      <td>54</td>\n",
       "    </tr>\n",
       "  </tbody>\n",
       "</table>\n",
       "<p>70 rows × 2 columns</p>\n",
       "</div>"
      ],
      "text/plain": [
       "   variable  value\n",
       "0        P1     25\n",
       "1        P1     23\n",
       "2        P1     24\n",
       "3        P1     32\n",
       "4        P1     32\n",
       "..      ...    ...\n",
       "65       P7     43\n",
       "66       P7     54\n",
       "67       P7     53\n",
       "68       P7     51\n",
       "69       P7     54\n",
       "\n",
       "[70 rows x 2 columns]"
      ]
     },
     "execution_count": 67,
     "metadata": {},
     "output_type": "execute_result"
    }
   ],
   "source": [
    "pd.melt(df)"
   ]
  },
  {
   "cell_type": "markdown",
   "metadata": {},
   "source": [
    "# Distributions"
   ]
  },
  {
   "cell_type": "code",
   "execution_count": 88,
   "metadata": {},
   "outputs": [
    {
     "data": {
      "image/png": "[encoded data removed]",
      "text/plain": [
       "<Figure size 780x360 with 1 Axes>"
      ]
     },
     "metadata": {},
     "output_type": "display_data"
    }
   ],
   "source": [
    "melted = pd.melt(df)\n",
    "melted.columns = ['Parameters', 'value']\n",
    "\n",
    "ax = sns.displot(melted, x=\"value\", hue=\"Parameters\",  kind=\"kde\", fill=True, alpha=.3, aspect=2)\n",
    "sns.despine(offset=10, trim=True);\n",
    "plt.show()\n"
   ]
  },
  {
   "cell_type": "markdown",
   "metadata": {},
   "source": [
    "# 3. Parametrics assumptions"
   ]
  },
  {
   "cell_type": "markdown",
   "metadata": {},
   "source": [
    "## 3.1. Normality"
   ]
  },
  {
   "cell_type": "code",
   "execution_count": 10,
   "metadata": {},
   "outputs": [],
   "source": [
    "def shapiroTest(x):\n",
    "    '''\n",
    "    Statistic: A quantity calculated by the test that can be interpreted in the context of the test via comparing it to critical \n",
    "               values from the distribution of the test statistic.\n",
    "    p-value: Used to interpret the test, in this case whether the sample was drawn from a Gaussian distribution.\n",
    "    '''\n",
    "    \n",
    "    statistic = shapiro(x).statistic\n",
    "    pvalue = shapiro(x).pvalue\n",
    "    \n",
    "    if pvalue > 0.05:\n",
    "        print(f\"The distribution is normal. The pvalue is {pvalue} and the statistics is {statistic}\")\n",
    "    else:\n",
    "        print(f\"The distribution is not normal. The pvalue is {pvalue} and the statistics is {statistic}\")"
   ]
  },
  {
   "cell_type": "code",
   "execution_count": 15,
   "metadata": {},
   "outputs": [
    {
     "name": "stdout",
     "output_type": "stream",
     "text": [
      "The distribution for P1 algorithm is Normal. The pvalue is 0.26 and the statistics is 0.91\n",
      "The distribution for P2 algorithm is not normal. The pvalue is 0.02 and the statistics is 0.81\n",
      "The distribution for P3 algorithm is Normal. The pvalue is 0.31 and the statistics is 0.91\n",
      "The distribution for P4 algorithm is Normal. The pvalue is 0.48 and the statistics is 0.93\n",
      "The distribution for P5 algorithm is Normal. The pvalue is 0.25 and the statistics is 0.91\n",
      "The distribution for P6 algorithm is Normal. The pvalue is 0.09 and the statistics is 0.87\n",
      "The distribution for P7 algorithm is not normal. The pvalue is 0.02 and the statistics is 0.81\n"
     ]
    }
   ],
   "source": [
    "for c in df.columns:\n",
    "    statistic = shapiro(df[c]).statistic\n",
    "    pvalue = shapiro(df[c]).pvalue\n",
    "    \n",
    "    if pvalue > 0.05:\n",
    "        print(f\"The distribution for {c} algorithm is Normal. The pvalue is {np.round(pvalue,2)} and the statistics is {np.round(statistic,2)}\")\n",
    "    else:\n",
    "        print(f\"The distribution for {c} algorithm is not normal. The pvalue is {np.round(pvalue,2)} and the statistics is {np.round(statistic,2)}\")"
   ]
  },
  {
   "cell_type": "markdown",
   "metadata": {},
   "source": [
    "## Homocedasticity"
   ]
  },
  {
   "cell_type": "code",
   "execution_count": 60,
   "metadata": {},
   "outputs": [
    {
     "name": "stdout",
     "output_type": "stream",
     "text": [
      "******* Fligner-Killeen's Test *******\n",
      "\n",
      "\tStatistics: 7.19\n",
      "\tp-value: 0.304\n",
      "\n",
      "***********************************\n"
     ]
    }
   ],
   "source": [
    "F, p = fligner(df.P1, df.P2, df.P3, df.P4, df.P5, df.P6, df.P7)\n",
    "\n",
    "print(\"******* Fligner-Killeen's Test *******\\n\")\n",
    "print(f\"\\tStatistics: {round(F,2)}\")\n",
    "print(f\"\\tp-value: {round(p,3)}\")\n",
    "print(\"\\n***********************************\")"
   ]
  },
  {
   "cell_type": "markdown",
   "metadata": {},
   "source": [
    "## 3.2. Homocedasticity"
   ]
  },
  {
   "cell_type": "code",
   "execution_count": 26,
   "metadata": {},
   "outputs": [
    {
     "name": "stdout",
     "output_type": "stream",
     "text": [
      "******* Levene's Test *******\n",
      "\n",
      "\tStatistics: 1.1\n",
      "\tp-value: 0.38\n",
      "\n",
      "***********************************\n"
     ]
    }
   ],
   "source": [
    "L, p = levene(df.P1, df.P2, df.P3, df.P4, df.P5, df.P6, df.P7)\n",
    "\n",
    "print(\"******* Levene's Test *******\\n\")\n",
    "print(f\"\\tStatistics: {round(L,2)}\")\n",
    "print(f\"\\tp-value: {round(p,2)}\")\n",
    "print(\"\\n***********************************\")"
   ]
  },
  {
   "cell_type": "markdown",
   "metadata": {},
   "source": [
    "# 4. Non-parametric tests"
   ]
  },
  {
   "cell_type": "markdown",
   "metadata": {},
   "source": [
    "## 4.1. Independent samples data"
   ]
  },
  {
   "cell_type": "code",
   "execution_count": 25,
   "metadata": {},
   "outputs": [
    {
     "name": "stdout",
     "output_type": "stream",
     "text": [
      "******* Kruskal-Wallis Test *******\n",
      "\n",
      "\tStatistics:  39.09846677426144\n",
      "\tp-value:  6.846432420673457e-07\n",
      "\n",
      "***********************************\n"
     ]
    }
   ],
   "source": [
    "H, p = kruskal(df.P1, df.P2, df.P3, df.P4, df.P5, df.P6, df.P7)\n",
    "\n",
    "print(\"******* Kruskal-Wallis Test *******\\n\")\n",
    "print(\"\\tStatistics: \", H)\n",
    "print(\"\\tp-value: \", p)\n",
    "print(\"\\n***********************************\")"
   ]
  },
  {
   "cell_type": "markdown",
   "metadata": {},
   "source": [
    "## 4.2. Indepenent samples test post hoc"
   ]
  },
  {
   "cell_type": "code",
   "execution_count": 55,
   "metadata": {},
   "outputs": [
    {
     "data": {
      "text/html": [
       "<div>\n",
       "<style scoped>\n",
       "    .dataframe tbody tr th:only-of-type {\n",
       "        vertical-align: middle;\n",
       "    }\n",
       "\n",
       "    .dataframe tbody tr th {\n",
       "        vertical-align: top;\n",
       "    }\n",
       "\n",
       "    .dataframe thead th {\n",
       "        text-align: right;\n",
       "    }\n",
       "</style>\n",
       "<table border=\"1\" class=\"dataframe\">\n",
       "  <thead>\n",
       "    <tr style=\"text-align: right;\">\n",
       "      <th></th>\n",
       "      <th>blocks</th>\n",
       "      <th>groups</th>\n",
       "      <th>y</th>\n",
       "    </tr>\n",
       "  </thead>\n",
       "  <tbody>\n",
       "    <tr>\n",
       "      <th>0</th>\n",
       "      <td>0</td>\n",
       "      <td>0</td>\n",
       "      <td>25</td>\n",
       "    </tr>\n",
       "    <tr>\n",
       "      <th>1</th>\n",
       "      <td>1</td>\n",
       "      <td>0</td>\n",
       "      <td>23</td>\n",
       "    </tr>\n",
       "    <tr>\n",
       "      <th>2</th>\n",
       "      <td>2</td>\n",
       "      <td>0</td>\n",
       "      <td>24</td>\n",
       "    </tr>\n",
       "    <tr>\n",
       "      <th>3</th>\n",
       "      <td>3</td>\n",
       "      <td>0</td>\n",
       "      <td>32</td>\n",
       "    </tr>\n",
       "    <tr>\n",
       "      <th>4</th>\n",
       "      <td>4</td>\n",
       "      <td>0</td>\n",
       "      <td>32</td>\n",
       "    </tr>\n",
       "    <tr>\n",
       "      <th>...</th>\n",
       "      <td>...</td>\n",
       "      <td>...</td>\n",
       "      <td>...</td>\n",
       "    </tr>\n",
       "    <tr>\n",
       "      <th>65</th>\n",
       "      <td>5</td>\n",
       "      <td>6</td>\n",
       "      <td>43</td>\n",
       "    </tr>\n",
       "    <tr>\n",
       "      <th>66</th>\n",
       "      <td>6</td>\n",
       "      <td>6</td>\n",
       "      <td>54</td>\n",
       "    </tr>\n",
       "    <tr>\n",
       "      <th>67</th>\n",
       "      <td>7</td>\n",
       "      <td>6</td>\n",
       "      <td>53</td>\n",
       "    </tr>\n",
       "    <tr>\n",
       "      <th>68</th>\n",
       "      <td>8</td>\n",
       "      <td>6</td>\n",
       "      <td>51</td>\n",
       "    </tr>\n",
       "    <tr>\n",
       "      <th>69</th>\n",
       "      <td>9</td>\n",
       "      <td>6</td>\n",
       "      <td>54</td>\n",
       "    </tr>\n",
       "  </tbody>\n",
       "</table>\n",
       "<p>70 rows × 3 columns</p>\n",
       "</div>"
      ],
      "text/plain": [
       "    blocks groups   y\n",
       "0        0      0  25\n",
       "1        1      0  23\n",
       "2        2      0  24\n",
       "3        3      0  32\n",
       "4        4      0  32\n",
       "..     ...    ...  ..\n",
       "65       5      6  43\n",
       "66       6      6  54\n",
       "67       7      6  53\n",
       "68       8      6  51\n",
       "69       9      6  54\n",
       "\n",
       "[70 rows x 3 columns]"
      ]
     },
     "execution_count": 55,
     "metadata": {},
     "output_type": "execute_result"
    }
   ],
   "source": [
    "__convert_to_block_df(df.to_numpy())[0]"
   ]
  },
  {
   "cell_type": "code",
   "execution_count": 58,
   "metadata": {},
   "outputs": [
    {
     "data": {
      "text/html": [
       "<div>\n",
       "<style scoped>\n",
       "    .dataframe tbody tr th:only-of-type {\n",
       "        vertical-align: middle;\n",
       "    }\n",
       "\n",
       "    .dataframe tbody tr th {\n",
       "        vertical-align: top;\n",
       "    }\n",
       "\n",
       "    .dataframe thead th {\n",
       "        text-align: right;\n",
       "    }\n",
       "</style>\n",
       "<table border=\"1\" class=\"dataframe\">\n",
       "  <thead>\n",
       "    <tr style=\"text-align: right;\">\n",
       "      <th></th>\n",
       "      <th>P1</th>\n",
       "      <th>P2</th>\n",
       "      <th>P3</th>\n",
       "      <th>P4</th>\n",
       "      <th>P5</th>\n",
       "      <th>P6</th>\n",
       "      <th>P7</th>\n",
       "    </tr>\n",
       "  </thead>\n",
       "  <tbody>\n",
       "    <tr>\n",
       "      <th>P1</th>\n",
       "      <td>1.000000</td>\n",
       "      <td>0.965930</td>\n",
       "      <td>0.118688</td>\n",
       "      <td>0.946241</td>\n",
       "      <td>1.000000</td>\n",
       "      <td>0.006145</td>\n",
       "      <td>0.012004</td>\n",
       "    </tr>\n",
       "    <tr>\n",
       "      <th>P2</th>\n",
       "      <td>0.965930</td>\n",
       "      <td>1.000000</td>\n",
       "      <td>0.675395</td>\n",
       "      <td>1.000000</td>\n",
       "      <td>0.973852</td>\n",
       "      <td>0.152881</td>\n",
       "      <td>0.225030</td>\n",
       "    </tr>\n",
       "    <tr>\n",
       "      <th>P3</th>\n",
       "      <td>0.118688</td>\n",
       "      <td>0.675395</td>\n",
       "      <td>1.000000</td>\n",
       "      <td>0.735947</td>\n",
       "      <td>0.134997</td>\n",
       "      <td>0.980328</td>\n",
       "      <td>0.993671</td>\n",
       "    </tr>\n",
       "    <tr>\n",
       "      <th>P4</th>\n",
       "      <td>0.946241</td>\n",
       "      <td>1.000000</td>\n",
       "      <td>0.735947</td>\n",
       "      <td>1.000000</td>\n",
       "      <td>0.957343</td>\n",
       "      <td>0.191540</td>\n",
       "      <td>0.274184</td>\n",
       "    </tr>\n",
       "    <tr>\n",
       "      <th>P5</th>\n",
       "      <td>1.000000</td>\n",
       "      <td>0.973852</td>\n",
       "      <td>0.134997</td>\n",
       "      <td>0.957343</td>\n",
       "      <td>1.000000</td>\n",
       "      <td>0.007536</td>\n",
       "      <td>0.014514</td>\n",
       "    </tr>\n",
       "    <tr>\n",
       "      <th>P6</th>\n",
       "      <td>0.006145</td>\n",
       "      <td>0.152881</td>\n",
       "      <td>0.980328</td>\n",
       "      <td>0.191540</td>\n",
       "      <td>0.007536</td>\n",
       "      <td>1.000000</td>\n",
       "      <td>0.999999</td>\n",
       "    </tr>\n",
       "    <tr>\n",
       "      <th>P7</th>\n",
       "      <td>0.012004</td>\n",
       "      <td>0.225030</td>\n",
       "      <td>0.993671</td>\n",
       "      <td>0.274184</td>\n",
       "      <td>0.014514</td>\n",
       "      <td>0.999999</td>\n",
       "      <td>1.000000</td>\n",
       "    </tr>\n",
       "  </tbody>\n",
       "</table>\n",
       "</div>"
      ],
      "text/plain": [
       "          P1        P2        P3        P4        P5        P6        P7\n",
       "P1  1.000000  0.965930  0.118688  0.946241  1.000000  0.006145  0.012004\n",
       "P2  0.965930  1.000000  0.675395  1.000000  0.973852  0.152881  0.225030\n",
       "P3  0.118688  0.675395  1.000000  0.735947  0.134997  0.980328  0.993671\n",
       "P4  0.946241  1.000000  0.735947  1.000000  0.957343  0.191540  0.274184\n",
       "P5  1.000000  0.973852  0.134997  0.957343  1.000000  0.007536  0.014514\n",
       "P6  0.006145  0.152881  0.980328  0.191540  0.007536  1.000000  0.999999\n",
       "P7  0.012004  0.225030  0.993671  0.274184  0.014514  0.999999  1.000000"
      ]
     },
     "execution_count": 58,
     "metadata": {},
     "output_type": "execute_result"
    }
   ],
   "source": [
    "nemenyi = posthoc_nemenyi(__convert_to_block_df(df.to_numpy())[0], val_col='y', group_col='groups')\n",
    "nemenyi.columns = df.columns\n",
    "nemenyi.index = df.columns\n",
    "nemenyi"
   ]
  },
  {
   "cell_type": "markdown",
   "metadata": {},
   "source": [
    "## 4.3. Dependent samples test"
   ]
  },
  {
   "cell_type": "code",
   "execution_count": 29,
   "metadata": {},
   "outputs": [
    {
     "name": "stdout",
     "output_type": "stream",
     "text": [
      "******* Friedman Test *******\n",
      "\n",
      "\tStatistics:  32.03610108303247\n",
      "\tp-value:  1.605963392835356e-05\n",
      "\n",
      "****************************\n"
     ]
    }
   ],
   "source": [
    "F, p = friedmanchisquare(df.P1, df.P2, df.P3, df.P4, df.P5, df.P6, df.P7)\n",
    "\n",
    "print(\"******* Friedman Test *******\\n\")\n",
    "print(\"\\tStatistics: \", F)\n",
    "print(\"\\tp-value: \", p)\n",
    "print(\"\\n****************************\")"
   ]
  },
  {
   "cell_type": "markdown",
   "metadata": {},
   "source": [
    "## 4.4. Dependent samples test post-hoc"
   ]
  },
  {
   "cell_type": "code",
   "execution_count": 38,
   "metadata": {},
   "outputs": [
    {
     "data": {
      "text/html": [
       "<div>\n",
       "<style scoped>\n",
       "    .dataframe tbody tr th:only-of-type {\n",
       "        vertical-align: middle;\n",
       "    }\n",
       "\n",
       "    .dataframe tbody tr th {\n",
       "        vertical-align: top;\n",
       "    }\n",
       "\n",
       "    .dataframe thead th {\n",
       "        text-align: right;\n",
       "    }\n",
       "</style>\n",
       "<table border=\"1\" class=\"dataframe\">\n",
       "  <thead>\n",
       "    <tr style=\"text-align: right;\">\n",
       "      <th></th>\n",
       "      <th>P1</th>\n",
       "      <th>P2</th>\n",
       "      <th>P3</th>\n",
       "      <th>P4</th>\n",
       "      <th>P5</th>\n",
       "      <th>P6</th>\n",
       "      <th>P7</th>\n",
       "    </tr>\n",
       "  </thead>\n",
       "  <tbody>\n",
       "    <tr>\n",
       "      <th>P1</th>\n",
       "      <td>1.000000</td>\n",
       "      <td>0.900000</td>\n",
       "      <td>0.042827</td>\n",
       "      <td>0.777817</td>\n",
       "      <td>0.900000</td>\n",
       "      <td>0.001315</td>\n",
       "      <td>0.004459</td>\n",
       "    </tr>\n",
       "    <tr>\n",
       "      <th>P2</th>\n",
       "      <td>0.900000</td>\n",
       "      <td>1.000000</td>\n",
       "      <td>0.438420</td>\n",
       "      <td>0.900000</td>\n",
       "      <td>0.900000</td>\n",
       "      <td>0.049752</td>\n",
       "      <td>0.114484</td>\n",
       "    </tr>\n",
       "    <tr>\n",
       "      <th>P3</th>\n",
       "      <td>0.042827</td>\n",
       "      <td>0.438420</td>\n",
       "      <td>1.000000</td>\n",
       "      <td>0.656089</td>\n",
       "      <td>0.100312</td>\n",
       "      <td>0.900000</td>\n",
       "      <td>0.900000</td>\n",
       "    </tr>\n",
       "    <tr>\n",
       "      <th>P4</th>\n",
       "      <td>0.777817</td>\n",
       "      <td>0.900000</td>\n",
       "      <td>0.656089</td>\n",
       "      <td>1.000000</td>\n",
       "      <td>0.900000</td>\n",
       "      <td>0.129190</td>\n",
       "      <td>0.254909</td>\n",
       "    </tr>\n",
       "    <tr>\n",
       "      <th>P5</th>\n",
       "      <td>0.900000</td>\n",
       "      <td>0.900000</td>\n",
       "      <td>0.100312</td>\n",
       "      <td>0.900000</td>\n",
       "      <td>1.000000</td>\n",
       "      <td>0.004459</td>\n",
       "      <td>0.013555</td>\n",
       "    </tr>\n",
       "    <tr>\n",
       "      <th>P6</th>\n",
       "      <td>0.001315</td>\n",
       "      <td>0.049752</td>\n",
       "      <td>0.900000</td>\n",
       "      <td>0.129190</td>\n",
       "      <td>0.004459</td>\n",
       "      <td>1.000000</td>\n",
       "      <td>0.900000</td>\n",
       "    </tr>\n",
       "    <tr>\n",
       "      <th>P7</th>\n",
       "      <td>0.004459</td>\n",
       "      <td>0.114484</td>\n",
       "      <td>0.900000</td>\n",
       "      <td>0.254909</td>\n",
       "      <td>0.013555</td>\n",
       "      <td>0.900000</td>\n",
       "      <td>1.000000</td>\n",
       "    </tr>\n",
       "  </tbody>\n",
       "</table>\n",
       "</div>"
      ],
      "text/plain": [
       "          P1        P2        P3        P4        P5        P6        P7\n",
       "P1  1.000000  0.900000  0.042827  0.777817  0.900000  0.001315  0.004459\n",
       "P2  0.900000  1.000000  0.438420  0.900000  0.900000  0.049752  0.114484\n",
       "P3  0.042827  0.438420  1.000000  0.656089  0.100312  0.900000  0.900000\n",
       "P4  0.777817  0.900000  0.656089  1.000000  0.900000  0.129190  0.254909\n",
       "P5  0.900000  0.900000  0.100312  0.900000  1.000000  0.004459  0.013555\n",
       "P6  0.001315  0.049752  0.900000  0.129190  0.004459  1.000000  0.900000\n",
       "P7  0.004459  0.114484  0.900000  0.254909  0.013555  0.900000  1.000000"
      ]
     },
     "execution_count": 38,
     "metadata": {},
     "output_type": "execute_result"
    }
   ],
   "source": [
    "nemenyi = posthoc_nemenyi_friedman(df.to_numpy())\n",
    "nemenyi.columns = df.columns\n",
    "nemenyi.index = df.columns\n",
    "#nemenyi = np.round(nemenyi, 3)\n",
    "nemenyi"
   ]
  },
  {
   "cell_type": "code",
   "execution_count": null,
   "metadata": {},
   "outputs": [],
   "source": []
  }
 ],
 "metadata": {
  "kernelspec": {
   "display_name": "Python 3",
   "language": "python",
   "name": "python3"
  },
  "language_info": {
   "codemirror_mode": {
    "name": "ipython",
    "version": 3
   },
   "file_extension": ".py",
   "mimetype": "text/x-python",
   "name": "python",
   "nbconvert_exporter": "python",
   "pygments_lexer": "ipython3",
   "version": "3.8.3"
  }
 },
 "nbformat": 4,
 "nbformat_minor": 4
}
